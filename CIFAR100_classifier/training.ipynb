{
 "cells": [
  {
   "cell_type": "code",
   "execution_count": 16,
   "metadata": {
    "id": "njbE6ujnNWye"
   },
   "outputs": [],
   "source": [
    "import numpy as np\n",
    "from tensorflow.keras.preprocessing.image import ImageDataGenerator\n",
    "from sklearn.model_selection import train_test_split\n",
    "from keras.callbacks import LearningRateScheduler, ModelCheckpoint\n",
    "from keras.models import load_model\n",
    "from google.colab import drive"
   ]
  },
  {
   "cell_type": "markdown",
   "metadata": {},
   "source": [
    "Conexión del drive:"
   ]
  },
  {
   "cell_type": "code",
   "execution_count": 17,
   "metadata": {
    "colab": {
     "base_uri": "https://localhost:8080/"
    },
    "id": "ttoRO2VIOZmb",
    "outputId": "1ea52d3d-90a6-4734-aa12-f146d5c09f40"
   },
   "outputs": [
    {
     "name": "stdout",
     "output_type": "stream",
     "text": [
      "Drive already mounted at /content/drive; to attempt to forcibly remount, call drive.mount(\"/content/drive\", force_remount=True).\n"
     ]
    }
   ],
   "source": [
    "drive.mount('/content/drive')"
   ]
  },
  {
   "cell_type": "code",
   "execution_count": 18,
   "metadata": {
    "colab": {
     "base_uri": "https://localhost:8080/"
    },
    "id": "fYOGZ-JsOaNS",
    "outputId": "438e8436-a8f5-4055-a064-80b5685b8f53"
   },
   "outputs": [
    {
     "name": "stdout",
     "output_type": "stream",
     "text": [
      "/content/drive/MyDrive/CNN/CIFAR100\n"
     ]
    }
   ],
   "source": [
    "%cd /content/drive/MyDrive/CNN/CIFAR100"
   ]
  },
  {
   "cell_type": "markdown",
   "metadata": {},
   "source": [
    "Carga de la data preprocesada:"
   ]
  },
  {
   "cell_type": "code",
   "execution_count": 19,
   "metadata": {
    "id": "vo7SiRP9Ocui"
   },
   "outputs": [],
   "source": [
    "#Cargar el dataset\n",
    "data = np.load('data/data.npz')\n",
    "\n",
    "train_images = data['trainX']\n",
    "train_labels = data['trainY']\n",
    "test_images = data['testX']\n",
    "test_labels = data['testY']"
   ]
  },
  {
   "cell_type": "markdown",
   "metadata": {},
   "source": [
    "División del conjunto de entrenamiento para obtener conjunto de validación"
   ]
  },
  {
   "cell_type": "code",
   "execution_count": 20,
   "metadata": {
    "id": "valgHiejOicq"
   },
   "outputs": [],
   "source": [
    "train_images,val_images,train_labels,val_labels = train_test_split(train_images, train_labels, test_size = 0.1)"
   ]
  },
  {
   "cell_type": "code",
   "execution_count": 23,
   "metadata": {
    "colab": {
     "base_uri": "https://localhost:8080/"
    },
    "id": "kgkp4m8XOsOK",
    "outputId": "b6f50ab7-bf66-402c-aee6-71cd52f646c8"
   },
   "outputs": [
    {
     "name": "stdout",
     "output_type": "stream",
     "text": [
      "(45000, 32, 32, 3) (5000, 32, 32, 3) (10000, 32, 32, 3)\n",
      "(45000, 100) (5000, 100) (10000, 100)\n"
     ]
    }
   ],
   "source": [
    "print(train_images.shape, val_images.shape, test_images.shape)\n",
    "print(train_labels.shape, val_labels.shape, test_labels.shape)"
   ]
  },
  {
   "cell_type": "markdown",
   "metadata": {},
   "source": [
    "Ampliación de la data:\n",
    "\n",
    "        Como se observó en el preprocesamiento de la data, el conjunto de datos de entrenamiento tiene 500 imágenes por clase y que no son suficientes para entrenar adecuadamente al modelo. Es por esto que se utiiza un generador de imágenes que permite aumentar la data realizando modificaciones al conjunto de datos ya existente, como por ejemplo, rotando, desplazando o cortando las imágenes segun se le indique al generador. "
   ]
  },
  {
   "cell_type": "code",
   "execution_count": 24,
   "metadata": {
    "id": "vIM4qTAWQzXl"
   },
   "outputs": [],
   "source": [
    "train_datagen = ImageDataGenerator(\n",
    "        rotation_range = 10,\n",
    "        zoom_range = 0.1,\n",
    "        width_shift_range = 0.1,\n",
    "        height_shift_range = 0.1,\n",
    "        shear_range = 0.1,\n",
    "        horizontal_flip = True,\n",
    "        vertical_flip = False,\n",
    "        )\n",
    "train_datagen.fit(train_images)"
   ]
  },
  {
   "cell_type": "markdown",
   "metadata": {},
   "source": [
    "Definir función para la programación de la tasa de aprendizaje:"
   ]
  },
  {
   "cell_type": "code",
   "execution_count": 25,
   "metadata": {
    "id": "6lTNVn_JO2-V"
   },
   "outputs": [],
   "source": [
    "def scheduler(epoch, lr):\n",
    "  if epoch < 10:\n",
    "    return lr\n",
    "  else:\n",
    "    if epoch % 2 == 0:\n",
    "      return lr * 0.1\n",
    "    else:\n",
    "      return lr\n",
    "\n",
    "callback_lr = LearningRateScheduler(scheduler)"
   ]
  },
  {
   "cell_type": "markdown",
   "metadata": {},
   "source": [
    "Cargar el modelo base:"
   ]
  },
  {
   "cell_type": "code",
   "execution_count": 26,
   "metadata": {
    "colab": {
     "base_uri": "https://localhost:8080/"
    },
    "id": "PFF8aZTjO29X",
    "outputId": "3d881ebd-f502-489a-f871-bf6ed85c611a"
   },
   "outputs": [
    {
     "name": "stdout",
     "output_type": "stream",
     "text": [
      "Model: \"sequential_1\"\n",
      "_________________________________________________________________\n",
      " Layer (type)                Output Shape              Param #   \n",
      "=================================================================\n",
      " up_sampling2d_1 (UpSamplin  (None, 224, 224, 3)       0         \n",
      " g2D)                                                            \n",
      "                                                                 \n",
      " mobilenet_1.00_224 (Functi  (None, 7, 7, 1024)        3228864   \n",
      " onal)                                                           \n",
      "                                                                 \n",
      " global_max_pooling2d_1 (Gl  (None, 1024)              0         \n",
      " obalMaxPooling2D)                                               \n",
      "                                                                 \n",
      " dense_1 (Dense)             (None, 100)               102500    \n",
      "                                                                 \n",
      "=================================================================\n",
      "Total params: 3331364 (12.71 MB)\n",
      "Trainable params: 3309476 (12.62 MB)\n",
      "Non-trainable params: 21888 (85.50 KB)\n",
      "_________________________________________________________________\n"
     ]
    }
   ],
   "source": [
    "model = load_model(\"models/mobilenet_model.h5\")\n",
    "model.summary()"
   ]
  },
  {
   "cell_type": "code",
   "execution_count": 29,
   "metadata": {
    "colab": {
     "base_uri": "https://localhost:8080/"
    },
    "id": "crBEXpXrQiDb",
    "outputId": "8424d4af-f208-425e-a85c-3bd71259f60f"
   },
   "outputs": [
    {
     "name": "stderr",
     "output_type": "stream",
     "text": [
      "WARNING:tensorflow:No training configuration found in the save file, so the model was *not* compiled. Compile it manually.\n"
     ]
    }
   ],
   "source": [
    "model_name = 'mobilenet_best.h5'\n",
    "\n",
    "checkpoint_filepath = 'trained_models/' + model_name\n",
    "model_checkpoint_callback = ModelCheckpoint(\n",
    "    filepath=checkpoint_filepath,\n",
    "    save_weights_only=False,\n",
    "    monitor='val_accuracy',\n",
    "    mode='max',\n",
    "    save_best_only=True)\n",
    "\n",
    "model = load_model(\"models/mobilenet_model.h5\")\n",
    "model.compile(optimizer=\"adam\", loss=\"categorical_crossentropy\", metrics=[\"accuracy\"])"
   ]
  },
  {
   "cell_type": "markdown",
   "metadata": {},
   "source": [
    "Entrenamiento:"
   ]
  },
  {
   "cell_type": "code",
   "execution_count": 30,
   "metadata": {
    "colab": {
     "base_uri": "https://localhost:8080/"
    },
    "id": "8aSItLFYQp50",
    "outputId": "39b5370d-2c7f-42a8-acf3-3373a53d52e7"
   },
   "outputs": [
    {
     "name": "stdout",
     "output_type": "stream",
     "text": [
      "Epoch 1/20\n",
      "352/352 [==============================] - 176s 458ms/step - loss: 3.9290 - accuracy: 0.2922 - val_loss: 4.0294 - val_accuracy: 0.3050 - lr: 0.0010\n",
      "Epoch 2/20\n",
      "352/352 [==============================] - 158s 449ms/step - loss: 1.7960 - accuracy: 0.5397 - val_loss: 2.0953 - val_accuracy: 0.4906 - lr: 0.0010\n",
      "Epoch 3/20\n",
      "352/352 [==============================] - 158s 449ms/step - loss: 1.3005 - accuracy: 0.6380 - val_loss: 1.7965 - val_accuracy: 0.5578 - lr: 0.0010\n",
      "Epoch 4/20\n",
      "352/352 [==============================] - 158s 449ms/step - loss: 1.0760 - accuracy: 0.6912 - val_loss: 1.7423 - val_accuracy: 0.5678 - lr: 0.0010\n",
      "Epoch 5/20\n",
      "352/352 [==============================] - 163s 463ms/step - loss: 0.9207 - accuracy: 0.7300 - val_loss: 1.6239 - val_accuracy: 0.5952 - lr: 0.0010\n",
      "Epoch 6/20\n",
      "352/352 [==============================] - 163s 463ms/step - loss: 0.8205 - accuracy: 0.7565 - val_loss: 1.6344 - val_accuracy: 0.6046 - lr: 0.0010\n",
      "Epoch 7/20\n",
      "352/352 [==============================] - 163s 463ms/step - loss: 0.7461 - accuracy: 0.7761 - val_loss: 1.5178 - val_accuracy: 0.6172 - lr: 0.0010\n",
      "Epoch 8/20\n",
      "352/352 [==============================] - 162s 460ms/step - loss: 0.6848 - accuracy: 0.7913 - val_loss: 1.5663 - val_accuracy: 0.6080 - lr: 0.0010\n",
      "Epoch 9/20\n",
      "352/352 [==============================] - 163s 464ms/step - loss: 0.6151 - accuracy: 0.8103 - val_loss: 1.5827 - val_accuracy: 0.6178 - lr: 0.0010\n",
      "Epoch 10/20\n",
      "352/352 [==============================] - 158s 449ms/step - loss: 0.5806 - accuracy: 0.8207 - val_loss: 1.4815 - val_accuracy: 0.6474 - lr: 0.0010\n",
      "Epoch 11/20\n",
      "352/352 [==============================] - 158s 448ms/step - loss: 0.2842 - accuracy: 0.9096 - val_loss: 0.9782 - val_accuracy: 0.7466 - lr: 1.0000e-04\n",
      "Epoch 12/20\n",
      "352/352 [==============================] - 158s 448ms/step - loss: 0.1946 - accuracy: 0.9376 - val_loss: 0.9541 - val_accuracy: 0.7550 - lr: 1.0000e-04\n",
      "Epoch 13/20\n",
      "352/352 [==============================] - 158s 449ms/step - loss: 0.1537 - accuracy: 0.9512 - val_loss: 0.9497 - val_accuracy: 0.7584 - lr: 1.0000e-05\n",
      "Epoch 14/20\n",
      "352/352 [==============================] - 162s 460ms/step - loss: 0.1457 - accuracy: 0.9544 - val_loss: 0.9579 - val_accuracy: 0.7584 - lr: 1.0000e-05\n",
      "Epoch 15/20\n",
      "352/352 [==============================] - 162s 460ms/step - loss: 0.1391 - accuracy: 0.9572 - val_loss: 0.9613 - val_accuracy: 0.7578 - lr: 1.0000e-06\n",
      "Epoch 16/20\n",
      "352/352 [==============================] - 162s 460ms/step - loss: 0.1441 - accuracy: 0.9538 - val_loss: 0.9596 - val_accuracy: 0.7584 - lr: 1.0000e-06\n",
      "Epoch 17/20\n",
      "352/352 [==============================] - 162s 460ms/step - loss: 0.1416 - accuracy: 0.9551 - val_loss: 0.9616 - val_accuracy: 0.7582 - lr: 1.0000e-07\n",
      "Epoch 18/20\n",
      "352/352 [==============================] - 157s 446ms/step - loss: 0.1386 - accuracy: 0.9573 - val_loss: 0.9603 - val_accuracy: 0.7578 - lr: 1.0000e-07\n",
      "Epoch 19/20\n",
      "352/352 [==============================] - 163s 462ms/step - loss: 0.1387 - accuracy: 0.9574 - val_loss: 0.9606 - val_accuracy: 0.7580 - lr: 1.0000e-08\n",
      "Epoch 20/20\n",
      "352/352 [==============================] - 162s 461ms/step - loss: 0.1411 - accuracy: 0.9552 - val_loss: 0.9626 - val_accuracy: 0.7566 - lr: 1.0000e-08\n"
     ]
    }
   ],
   "source": [
    "history = model.fit(\n",
    "    train_datagen.flow(train_images, train_labels, batch_size = 128),\n",
    "    validation_data = (val_images, val_labels),\n",
    "    epochs = 20,\n",
    "    verbose = 1,\n",
    "    callbacks = [model_checkpoint_callback, callback_lr]\n",
    "    )\n",
    "np.save('training_history_mobilenet.npy', history.history)"
   ]
  },
  {
   "cell_type": "code",
   "execution_count": 31,
   "metadata": {
    "colab": {
     "base_uri": "https://localhost:8080/"
    },
    "id": "kRPR184kwStl",
    "outputId": "b8c42f4d-eb02-44ad-cb6d-abd67509a047"
   },
   "outputs": [
    {
     "name": "stdout",
     "output_type": "stream",
     "text": [
      "313/313 [==============================] - 12s 37ms/step - loss: 0.9493 - accuracy: 0.7659\n",
      "76.59000158309937\n"
     ]
    }
   ],
   "source": [
    "model = load_model(\"trained_models/mobilenet_best.h5\")\n",
    "_, acc = model.evaluate(test_images, test_labels)\n",
    "print(acc * 100.0)"
   ]
  }
 ],
 "metadata": {
  "accelerator": "GPU",
  "colab": {
   "gpuType": "T4",
   "provenance": []
  },
  "kernelspec": {
   "display_name": "Python 3 (ipykernel)",
   "language": "python",
   "name": "python3"
  },
  "language_info": {
   "codemirror_mode": {
    "name": "ipython",
    "version": 3
   },
   "file_extension": ".py",
   "mimetype": "text/x-python",
   "name": "python",
   "nbconvert_exporter": "python",
   "pygments_lexer": "ipython3",
   "version": "3.7.3"
  }
 },
 "nbformat": 4,
 "nbformat_minor": 4
}
